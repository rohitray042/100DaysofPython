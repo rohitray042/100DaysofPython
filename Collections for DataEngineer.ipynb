{
 "cells": [
  {
   "cell_type": "code",
   "execution_count": 2,
   "metadata": {},
   "outputs": [],
   "source": [
    "nfile = open('C:\\\\Users\\\\91620\\\\Downloads\\\\sample3.txt','r')"
   ]
  },
  {
   "cell_type": "code",
   "execution_count": 3,
   "metadata": {},
   "outputs": [],
   "source": [
    "order = nfile.read()"
   ]
  },
  {
   "cell_type": "code",
   "execution_count": 4,
   "metadata": {},
   "outputs": [
    {
     "data": {
      "text/plain": [
       "['Quod equidem non reprehendo;',\n",
       " 'Lorem ipsum dolor sit amet, consectetur adipiscing elit. Quibus natura iure responderit non esse verum aliunde finem beate vivendi, a se principia rei gerendae peti; Quae enim adhuc protulisti, popularia sunt, ego autem a te elegantiora desidero. Duo Reges: constructio interrete. Tum Lucius: Mihi vero ista valde probata sunt, quod item fratri puto. Bestiarum vero nullum iudicium puto. Nihil enim iam habes, quod ad corpus referas; Deinde prima illa, quae in congressu solemus: Quid tu, inquit, huc? Et homini, qui ceteris animantibus plurimum praestat, praecipue a natura nihil datum esse dicemus?',\n",
       " '',\n",
       " 'Iam id ipsum absurdum, maximum malum neglegi. Quod ea non occurrentia fingunt, vincunt Aristonem; Atqui perspicuum est hominem e corpore animoque constare, cum primae sint animi partes, secundae corporis. Fieri, inquam, Triari, nullo pacto potest, ut non dicas, quid non probes eius, a quo dissentias. Equidem e Cn. An dubium est, quin virtus ita maximam partem optineat in rebus humanis, ut reliquas obruat?',\n",
       " '',\n",
       " 'Quis istum dolorem timet?',\n",
       " 'Summus dolor plures dies manere non potest? Dicet pro me ipsa virtus nec dubitabit isti vestro beato M. Tubulum fuisse, qua illum, cuius is condemnatus est rogatione, P. Quod si ita sit, cur opera philosophiae sit danda nescio.',\n",
       " '',\n",
       " 'Ex eorum enim scriptis et institutis cum omnis doctrina liberalis, omnis historia.',\n",
       " 'Quod si ita est, sequitur id ipsum, quod te velle video, omnes semper beatos esse sapientes. Cum enim fertur quasi torrens oratio, quamvis multa cuiusque modi rapiat, nihil tamen teneas, nihil apprehendas, nusquam orationem rapidam coerceas. Ita redarguitur ipse a sese, convincunturque scripta eius probitate ipsius ac moribus. At quanta conantur! Mundum hunc omnem oppidum esse nostrum! Incendi igitur eos, qui audiunt, vides. Vide, ne magis, inquam, tuum fuerit, cum re idem tibi, quod mihi, videretur, non nova te rebus nomina inponere. Qui-vere falsone, quaerere mittimus-dicitur oculis se privasse; Si ista mala sunt, in quae potest incidere sapiens, sapientem esse non esse ad beate vivendum satis. At vero si ad vitem sensus accesserit, ut appetitum quendam habeat et per se ipsa moveatur, quid facturam putas?',\n",
       " '',\n",
       " 'Quem si tenueris, non modo meum Ciceronem, sed etiam me ipsum abducas licebit.',\n",
       " 'Stulti autem malorum memoria torquentur, sapientes bona praeterita grata recordatione renovata delectant.',\n",
       " 'Esse enim quam vellet iniquus iustus poterat inpune.',\n",
       " 'Quae autem natura suae primae institutionis oblita est?',\n",
       " 'Verum tamen cum de rebus grandioribus dicas, ipsae res verba rapiunt;',\n",
       " 'Hoc est non modo cor non habere, sed ne palatum quidem.',\n",
       " 'Voluptatem cum summum bonum diceret, primum in eo ipso parum vidit, deinde hoc quoque alienum; Sed tu istuc dixti bene Latine, parum plane. Nam haec ipsa mihi erunt in promptu, quae modo audivi, nec ante aggrediar, quam te ab istis, quos dicis, instructum videro. Fatebuntur Stoici haec omnia dicta esse praeclare, neque eam causam Zenoni desciscendi fuisse. Non autem hoc: igitur ne illud quidem. Ratio quidem vestra sic cogit. Cum audissem Antiochum, Brute, ut solebam, cum M. An quod ita callida est, ut optime possit architectari voluptates?',\n",
       " '',\n",
       " 'Idemne, quod iucunde?',\n",
       " 'Haec mihi videtur delicatior, ut ita dicam, molliorque ratio, quam virtutis vis gravitasque postulat. Sed quoniam et advesperascit et mihi ad villam revertendum est, nunc quidem hactenus; Cuius ad naturam apta ratio vera illa et summa lex a philosophis dicitur. Neque solum ea communia, verum etiam paria esse dixerunt. Sed nunc, quod agimus; A mene tu?']"
      ]
     },
     "execution_count": 4,
     "metadata": {},
     "output_type": "execute_result"
    }
   ],
   "source": [
    "order.splitlines()"
   ]
  },
  {
   "cell_type": "code",
   "execution_count": 8,
   "metadata": {},
   "outputs": [
    {
     "data": {
      "text/plain": [
       "'QUOD EQUIDEM NON REPREHENDO;\\nLOREM IPSUM DOLOR SIT AMET, CONSECTETUR ADIPISCING ELIT. QUIBUS NATURA IURE RESPONDERIT NON ESSE VERUM ALIUNDE FINEM BEATE VIVENDI, A SE PRINCIPIA REI GERENDAE PETI; QUAE ENIM ADHUC PROTULISTI, POPULARIA SUNT, EGO AUTEM A TE ELEGANTIORA DESIDERO. DUO REGES: CONSTRUCTIO INTERRETE. TUM LUCIUS: MIHI VERO ISTA VALDE PROBATA SUNT, QUOD ITEM FRATRI PUTO. BESTIARUM VERO NULLUM IUDICIUM PUTO. NIHIL ENIM IAM HABES, QUOD AD CORPUS REFERAS; DEINDE PRIMA ILLA, QUAE IN CONGRESSU SOLEMUS: QUID TU, INQUIT, HUC? ET HOMINI, QUI CETERIS ANIMANTIBUS PLURIMUM PRAESTAT, PRAECIPUE A NATURA NIHIL DATUM ESSE DICEMUS?\\n\\nIAM ID IPSUM ABSURDUM, MAXIMUM MALUM NEGLEGI. QUOD EA NON OCCURRENTIA FINGUNT, VINCUNT ARISTONEM; ATQUI PERSPICUUM EST HOMINEM E CORPORE ANIMOQUE CONSTARE, CUM PRIMAE SINT ANIMI PARTES, SECUNDAE CORPORIS. FIERI, INQUAM, TRIARI, NULLO PACTO POTEST, UT NON DICAS, QUID NON PROBES EIUS, A QUO DISSENTIAS. EQUIDEM E CN. AN DUBIUM EST, QUIN VIRTUS ITA MAXIMAM PARTEM OPTINEAT IN REBUS HUMANIS, UT RELIQUAS OBRUAT?\\n\\nQUIS ISTUM DOLOREM TIMET?\\nSUMMUS DOLOR PLURES DIES MANERE NON POTEST? DICET PRO ME IPSA VIRTUS NEC DUBITABIT ISTI VESTRO BEATO M. TUBULUM FUISSE, QUA ILLUM, CUIUS IS CONDEMNATUS EST ROGATIONE, P. QUOD SI ITA SIT, CUR OPERA PHILOSOPHIAE SIT DANDA NESCIO.\\n\\nEX EORUM ENIM SCRIPTIS ET INSTITUTIS CUM OMNIS DOCTRINA LIBERALIS, OMNIS HISTORIA.\\nQUOD SI ITA EST, SEQUITUR ID IPSUM, QUOD TE VELLE VIDEO, OMNES SEMPER BEATOS ESSE SAPIENTES. CUM ENIM FERTUR QUASI TORRENS ORATIO, QUAMVIS MULTA CUIUSQUE MODI RAPIAT, NIHIL TAMEN TENEAS, NIHIL APPREHENDAS, NUSQUAM ORATIONEM RAPIDAM COERCEAS. ITA REDARGUITUR IPSE A SESE, CONVINCUNTURQUE SCRIPTA EIUS PROBITATE IPSIUS AC MORIBUS. AT QUANTA CONANTUR! MUNDUM HUNC OMNEM OPPIDUM ESSE NOSTRUM! INCENDI IGITUR EOS, QUI AUDIUNT, VIDES. VIDE, NE MAGIS, INQUAM, TUUM FUERIT, CUM RE IDEM TIBI, QUOD MIHI, VIDERETUR, NON NOVA TE REBUS NOMINA INPONERE. QUI-VERE FALSONE, QUAERERE MITTIMUS-DICITUR OCULIS SE PRIVASSE; SI ISTA MALA SUNT, IN QUAE POTEST INCIDERE SAPIENS, SAPIENTEM ESSE NON ESSE AD BEATE VIVENDUM SATIS. AT VERO SI AD VITEM SENSUS ACCESSERIT, UT APPETITUM QUENDAM HABEAT ET PER SE IPSA MOVEATUR, QUID FACTURAM PUTAS?\\n\\nQUEM SI TENUERIS, NON MODO MEUM CICERONEM, SED ETIAM ME IPSUM ABDUCAS LICEBIT.\\nSTULTI AUTEM MALORUM MEMORIA TORQUENTUR, SAPIENTES BONA PRAETERITA GRATA RECORDATIONE RENOVATA DELECTANT.\\nESSE ENIM QUAM VELLET INIQUUS IUSTUS POTERAT INPUNE.\\nQUAE AUTEM NATURA SUAE PRIMAE INSTITUTIONIS OBLITA EST?\\nVERUM TAMEN CUM DE REBUS GRANDIORIBUS DICAS, IPSAE RES VERBA RAPIUNT;\\nHOC EST NON MODO COR NON HABERE, SED NE PALATUM QUIDEM.\\nVOLUPTATEM CUM SUMMUM BONUM DICERET, PRIMUM IN EO IPSO PARUM VIDIT, DEINDE HOC QUOQUE ALIENUM; SED TU ISTUC DIXTI BENE LATINE, PARUM PLANE. NAM HAEC IPSA MIHI ERUNT IN PROMPTU, QUAE MODO AUDIVI, NEC ANTE AGGREDIAR, QUAM TE AB ISTIS, QUOS DICIS, INSTRUCTUM VIDERO. FATEBUNTUR STOICI HAEC OMNIA DICTA ESSE PRAECLARE, NEQUE EAM CAUSAM ZENONI DESCISCENDI FUISSE. NON AUTEM HOC: IGITUR NE ILLUD QUIDEM. RATIO QUIDEM VESTRA SIC COGIT. CUM AUDISSEM ANTIOCHUM, BRUTE, UT SOLEBAM, CUM M. AN QUOD ITA CALLIDA EST, UT OPTIME POSSIT ARCHITECTARI VOLUPTATES?\\n\\nIDEMNE, QUOD IUCUNDE?\\nHAEC MIHI VIDETUR DELICATIOR, UT ITA DICAM, MOLLIORQUE RATIO, QUAM VIRTUTIS VIS GRAVITASQUE POSTULAT. SED QUONIAM ET ADVESPERASCIT ET MIHI AD VILLAM REVERTENDUM EST, NUNC QUIDEM HACTENUS; CUIUS AD NATURAM APTA RATIO VERA ILLA ET SUMMA LEX A PHILOSOPHIS DICITUR. NEQUE SOLUM EA COMMUNIA, VERUM ETIAM PARIA ESSE DIXERUNT. SED NUNC, QUOD AGIMUS; A MENE TU?'"
      ]
     },
     "execution_count": 8,
     "metadata": {},
     "output_type": "execute_result"
    }
   ],
   "source": [
    "order.upper()"
   ]
  },
  {
   "cell_type": "code",
   "execution_count": 10,
   "metadata": {},
   "outputs": [
    {
     "data": {
      "text/plain": [
       "False"
      ]
     },
     "execution_count": 10,
     "metadata": {},
     "output_type": "execute_result"
    }
   ],
   "source": [
    "order.isupper()"
   ]
  }
 ],
 "metadata": {
  "kernelspec": {
   "display_name": "Python 3",
   "language": "python",
   "name": "python3"
  },
  "language_info": {
   "codemirror_mode": {
    "name": "ipython",
    "version": 3
   },
   "file_extension": ".py",
   "mimetype": "text/x-python",
   "name": "python",
   "nbconvert_exporter": "python",
   "pygments_lexer": "ipython3",
   "version": "3.8.10"
  }
 },
 "nbformat": 4,
 "nbformat_minor": 2
}
